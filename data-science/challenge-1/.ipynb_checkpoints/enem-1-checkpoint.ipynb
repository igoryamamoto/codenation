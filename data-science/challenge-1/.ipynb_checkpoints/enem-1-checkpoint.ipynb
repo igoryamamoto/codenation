{
 "cells": [
  {
   "cell_type": "code",
   "execution_count": 1,
   "metadata": {},
   "outputs": [],
   "source": [
    "import pandas as pd"
   ]
  },
  {
   "cell_type": "code",
   "execution_count": 37,
   "metadata": {},
   "outputs": [],
   "source": [
    "data = pd.read_csv(\"train.csv\",\n",
    "                   usecols=[\"NU_INSCRICAO\", \"NU_NOTA_CN\", \"NU_NOTA_CH\", \"NU_NOTA_LC\", \"NU_NOTA_MT\", \"NU_NOTA_REDACAO\"])\n",
    "weights = {\n",
    "    \"NU_NOTA_CN\": 2,\n",
    "    \"NU_NOTA_CH\": 1,\n",
    "    \"NU_NOTA_LC\": 1.5,\n",
    "    \"NU_NOTA_MT\": 3,\n",
    "    \"NU_NOTA_REDACAO\": 3\n",
    "}\n",
    "total_weight = sum(weights.values())\n",
    "result = data.iloc[:,1:] * pd.Series(weights)/total_weight\n",
    "data.iloc[:,1:] = data.iloc[:,1:] * pd.Series(weights)/total_weight"
   ]
  },
  {
   "cell_type": "code",
   "execution_count": 38,
   "metadata": {
    "scrolled": true
   },
   "outputs": [
    {
     "data": {
      "text/html": [
       "<div>\n",
       "<style scoped>\n",
       "    .dataframe tbody tr th:only-of-type {\n",
       "        vertical-align: middle;\n",
       "    }\n",
       "\n",
       "    .dataframe tbody tr th {\n",
       "        vertical-align: top;\n",
       "    }\n",
       "\n",
       "    .dataframe thead th {\n",
       "        text-align: right;\n",
       "    }\n",
       "</style>\n",
       "<table border=\"1\" class=\"dataframe\">\n",
       "  <thead>\n",
       "    <tr style=\"text-align: right;\">\n",
       "      <th></th>\n",
       "      <th>NU_INSCRICAO</th>\n",
       "      <th>NU_NOTA_CN</th>\n",
       "      <th>NU_NOTA_CH</th>\n",
       "      <th>NU_NOTA_LC</th>\n",
       "      <th>NU_NOTA_MT</th>\n",
       "      <th>NU_NOTA_REDACAO</th>\n",
       "    </tr>\n",
       "  </thead>\n",
       "  <tbody>\n",
       "    <tr>\n",
       "      <th>0</th>\n",
       "      <td>792b586676d8745219f55b965d08df4a0edf3fef</td>\n",
       "      <td>NaN</td>\n",
       "      <td>NaN</td>\n",
       "      <td>NaN</td>\n",
       "      <td>NaN</td>\n",
       "      <td>NaN</td>\n",
       "    </tr>\n",
       "    <tr>\n",
       "      <th>1</th>\n",
       "      <td>12e82808970c7c14208fd72d4a8bc25ee75c0097</td>\n",
       "      <td>104.438095</td>\n",
       "      <td>54.304762</td>\n",
       "      <td>77.314286</td>\n",
       "      <td>155.542857</td>\n",
       "      <td>165.714286</td>\n",
       "    </tr>\n",
       "    <tr>\n",
       "      <th>2</th>\n",
       "      <td>ee1f7dc4dcd74fc3e2c1d9d26270bf25ad9514c3</td>\n",
       "      <td>81.828571</td>\n",
       "      <td>46.933333</td>\n",
       "      <td>73.271429</td>\n",
       "      <td>114.942857</td>\n",
       "      <td>148.571429</td>\n",
       "    </tr>\n",
       "    <tr>\n",
       "      <th>3</th>\n",
       "      <td>8f6211638580f8751e4ff1f68aef4995e9974468</td>\n",
       "      <td>124.990476</td>\n",
       "      <td>58.095238</td>\n",
       "      <td>82.828571</td>\n",
       "      <td>199.342857</td>\n",
       "      <td>142.857143</td>\n",
       "    </tr>\n",
       "    <tr>\n",
       "      <th>4</th>\n",
       "      <td>3c74e27d0970c223229cffa9f5ce93a20775c703</td>\n",
       "      <td>99.295238</td>\n",
       "      <td>49.895238</td>\n",
       "      <td>74.157143</td>\n",
       "      <td>168.000000</td>\n",
       "      <td>137.142857</td>\n",
       "    </tr>\n",
       "  </tbody>\n",
       "</table>\n",
       "</div>"
      ],
      "text/plain": [
       "                               NU_INSCRICAO  NU_NOTA_CN  NU_NOTA_CH  \\\n",
       "0  792b586676d8745219f55b965d08df4a0edf3fef         NaN         NaN   \n",
       "1  12e82808970c7c14208fd72d4a8bc25ee75c0097  104.438095   54.304762   \n",
       "2  ee1f7dc4dcd74fc3e2c1d9d26270bf25ad9514c3   81.828571   46.933333   \n",
       "3  8f6211638580f8751e4ff1f68aef4995e9974468  124.990476   58.095238   \n",
       "4  3c74e27d0970c223229cffa9f5ce93a20775c703   99.295238   49.895238   \n",
       "\n",
       "   NU_NOTA_LC  NU_NOTA_MT  NU_NOTA_REDACAO  \n",
       "0         NaN         NaN              NaN  \n",
       "1   77.314286  155.542857       165.714286  \n",
       "2   73.271429  114.942857       148.571429  \n",
       "3   82.828571  199.342857       142.857143  \n",
       "4   74.157143  168.000000       137.142857  "
      ]
     },
     "execution_count": 38,
     "metadata": {},
     "output_type": "execute_result"
    }
   ],
   "source": [
    "data.head()"
   ]
  },
  {
   "cell_type": "raw",
   "metadata": {},
   "source": [
    "data.iloc[:,1:]"
   ]
  },
  {
   "cell_type": "code",
   "execution_count": null,
   "metadata": {},
   "outputs": [],
   "source": []
  }
 ],
 "metadata": {
  "kernelspec": {
   "display_name": "Python 3",
   "language": "python",
   "name": "python3"
  },
  "language_info": {
   "codemirror_mode": {
    "name": "ipython",
    "version": 3
   },
   "file_extension": ".py",
   "mimetype": "text/x-python",
   "name": "python",
   "nbconvert_exporter": "python",
   "pygments_lexer": "ipython3",
   "version": "3.6.4"
  }
 },
 "nbformat": 4,
 "nbformat_minor": 2
}

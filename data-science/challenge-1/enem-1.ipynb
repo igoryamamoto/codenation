{
 "cells": [
  {
   "cell_type": "code",
   "execution_count": 76,
   "metadata": {},
   "outputs": [],
   "source": [
    "import pandas as pd\n",
    "import json"
   ]
  },
  {
   "cell_type": "code",
   "execution_count": 73,
   "metadata": {},
   "outputs": [],
   "source": [
    "data = pd.read_csv(\"train.csv\",\n",
    "                   usecols=[\"NU_INSCRICAO\", \"NU_NOTA_CN\", \"NU_NOTA_CH\", \"NU_NOTA_LC\", \"NU_NOTA_MT\", \"NU_NOTA_REDACAO\"])\n",
    "weights = {\n",
    "    \"NU_NOTA_CN\": 2,\n",
    "    \"NU_NOTA_CH\": 1,\n",
    "    \"NU_NOTA_LC\": 1.5,\n",
    "    \"NU_NOTA_MT\": 3,\n",
    "    \"NU_NOTA_REDACAO\": 3\n",
    "}\n",
    "total_weight = sum(weights.values())\n",
    "data.iloc[:,1:] = data.iloc[:,1:] * pd.Series(weights)/total_weight\n",
    "data[\"NOTA_FINAL\"] = round(data.iloc[:,1:].sum(1), 1)\n",
    "result = data.sort_values(by=[\"NOTA_FINAL\"], ascending=False)[:20]\n",
    "result = result.drop([\"NU_NOTA_CN\", \"NU_NOTA_CH\", \"NU_NOTA_LC\", \"NU_NOTA_MT\", \"NU_NOTA_REDACAO\"], axis=1)"
   ]
  },
  {
   "cell_type": "code",
   "execution_count": 81,
   "metadata": {},
   "outputs": [],
   "source": [
    "answer = result.to_dict(\"records\")\n",
    "submission = {\n",
    "    \"token\": \"5cfb5e6838b5b71058949df3e8746d3ff1c31a73\",\n",
    "    \"email\": \"igor.a.r.y@gmail.com\",\n",
    "    \"answer\": answer\n",
    "}\n",
    "with open(\"submission.json\", \"w\") as fp:\n",
    "    json.dump(submission, fp)"
   ]
  },
  {
   "cell_type": "code",
   "execution_count": null,
   "metadata": {},
   "outputs": [],
   "source": []
  }
 ],
 "metadata": {
  "kernelspec": {
   "display_name": "Python 3",
   "language": "python",
   "name": "python3"
  },
  "language_info": {
   "codemirror_mode": {
    "name": "ipython",
    "version": 3
   },
   "file_extension": ".py",
   "mimetype": "text/x-python",
   "name": "python",
   "nbconvert_exporter": "python",
   "pygments_lexer": "ipython3",
   "version": "3.6.4"
  }
 },
 "nbformat": 4,
 "nbformat_minor": 2
}

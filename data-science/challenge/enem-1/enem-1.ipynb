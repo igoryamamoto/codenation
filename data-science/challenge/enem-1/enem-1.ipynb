{
 "cells": [
  {
   "cell_type": "code",
   "execution_count": 1,
   "metadata": {},
   "outputs": [],
   "source": [
    "import pandas as pd\n",
    "import json\n",
    "import requests"
   ]
  },
  {
   "cell_type": "code",
   "execution_count": 2,
   "metadata": {},
   "outputs": [],
   "source": [
    "data = pd.read_csv(\"../data/train.csv\",\n",
    "                   usecols=[\"NU_INSCRICAO\", \"NU_NOTA_CN\", \"NU_NOTA_CH\", \"NU_NOTA_LC\", \"NU_NOTA_MT\", \"NU_NOTA_REDACAO\"])\n",
    "weights = {\n",
    "    \"NU_NOTA_CN\": 2,\n",
    "    \"NU_NOTA_CH\": 1,\n",
    "    \"NU_NOTA_LC\": 1.5,\n",
    "    \"NU_NOTA_MT\": 3,\n",
    "    \"NU_NOTA_REDACAO\": 3\n",
    "}\n",
    "total_weight = sum(weights.values())\n",
    "result = (\n",
    "    data\n",
    "    .assign(NOTA_FINAL = lambda df: (df.iloc[:,1:] * pd.Series(weights)/total_weight).sum(1))\n",
    "    .assign(NOTA_FINAL = lambda df: round(df.NOTA_FINAL, 1))\n",
    "    .sort_values(by=[\"NOTA_FINAL\"], ascending=False)\n",
    "    [:20]\n",
    "    [[\"NU_INSCRICAO\", \"NOTA_FINAL\"]]\n",
    ")"
   ]
  },
  {
   "cell_type": "code",
   "execution_count": 3,
   "metadata": {},
   "outputs": [],
   "source": [
    "answer = result.to_dict(\"records\")\n",
    "submission = {\n",
    "    \"token\": \"5cfb5e6838b5b71058949df3e8746d3ff1c31a73\",\n",
    "    \"email\": \"igor.a.r.y@gmail.com\",\n",
    "    \"answer\": answer\n",
    "}\n",
    "with open(\"submission.json\", \"w\") as fp:\n",
    "    json.dump(submission, fp)"
   ]
  },
  {
   "cell_type": "code",
   "execution_count": 8,
   "metadata": {},
   "outputs": [
    {
     "data": {
      "text/plain": [
       "{'score': 100}"
      ]
     },
     "execution_count": 8,
     "metadata": {},
     "output_type": "execute_result"
    }
   ],
   "source": [
    "url = 'https://api.codenation.com.br/v1/user/acceleration/data-science/challenge/enem-1/submit'\n",
    "r = requests.post(url, json=submission)\n",
    "r.json()"
   ]
  },
  {
   "cell_type": "code",
   "execution_count": null,
   "metadata": {},
   "outputs": [],
   "source": []
  }
 ],
 "metadata": {
  "kernelspec": {
   "display_name": "Python 3",
   "language": "python",
   "name": "python3"
  },
  "language_info": {
   "codemirror_mode": {
    "name": "ipython",
    "version": 3
   },
   "file_extension": ".py",
   "mimetype": "text/x-python",
   "name": "python",
   "nbconvert_exporter": "python",
   "pygments_lexer": "ipython3",
   "version": "3.6.5"
  }
 },
 "nbformat": 4,
 "nbformat_minor": 2
}

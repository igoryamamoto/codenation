{
 "cells": [
  {
   "cell_type": "code",
   "execution_count": 205,
   "metadata": {},
   "outputs": [],
   "source": [
    "import numpy as np\n",
    "import pandas as pd\n",
    "import pandas_profiling as pp\n",
    "import seaborn as sns\n",
    "\n",
    "# from sklearn.model_selection import train_test_split\n",
    "# from sklearn import linear_model\n",
    "# from sklearn import tree\n",
    "# from sklearn import ensemble\n",
    "# from sklearn import metrics\n",
    "\n",
    "import json\n",
    "import requests\n",
    "%matplotlib inline"
   ]
  },
  {
   "cell_type": "markdown",
   "metadata": {},
   "source": [
    "### Read all data and generate report with dataset overview"
   ]
  },
  {
   "cell_type": "code",
   "execution_count": 206,
   "metadata": {},
   "outputs": [],
   "source": [
    "full_data = pd.read_csv(\"../data/test3.csv\")\n",
    "pp.ProfileReport(full_data).to_file(outputfile=\"./profile-test-full.html\")"
   ]
  },
  {
   "cell_type": "markdown",
   "metadata": {},
   "source": [
    "### Load Dataset\n",
    "- Manually select features based on previous report analysis\n",
    "- Load data, both to_predict and training datasets"
   ]
  },
  {
   "cell_type": "code",
   "execution_count": 250,
   "metadata": {},
   "outputs": [],
   "source": [
    "feature_cols = [\"NU_NOTA_CN\", \"NU_NOTA_CH\", \"NU_NOTA_LC\", \"NU_NOTA_REDACAO\"]\n",
    "mt_cols = [\"CO_PROVA_MT\", \"TX_RESPOSTAS_MT\"]\n",
    "data_to_predict = pd.read_csv(\"../data/test3.csv\",\n",
    "                         usecols=[\"NU_INSCRICAO\"]+feature_cols+mt_cols)\n",
    "# pp.ProfileReport(data_to_predict).to_file(outputfile=\"./profile-test.html\")\n",
    "data_train = pd.read_csv(\"../data/train.csv\",\n",
    "                         usecols=[\"NU_INSCRICAO\", \"TX_GABARITO_MT\"]+feature_cols+mt_cols).dropna()\n",
    "# pp.ProfileReport(data_train).to_file(outputfile=\"./profile-train.html\")"
   ]
  },
  {
   "cell_type": "code",
   "execution_count": 251,
   "metadata": {},
   "outputs": [
    {
     "data": {
      "text/plain": [
       "'BCEDADCCAECEABABDCEBABEDAAECCDDBDBABDADB'"
      ]
     },
     "execution_count": 251,
     "metadata": {},
     "output_type": "execute_result"
    }
   ],
   "source": [
    "data_to_predict.TX_RESPOSTAS_MT[0]"
   ]
  },
  {
   "cell_type": "markdown",
   "metadata": {},
   "source": [
    "### Random Strategy"
   ]
  },
  {
   "cell_type": "code",
   "execution_count": 209,
   "metadata": {},
   "outputs": [],
   "source": [
    "options = ['A', 'B', 'C', 'D', 'E']\n",
    "def generate_answer():\n",
    "    answer = np.random.choice(options, 5, replace=True)\n",
    "    return ''.join(answer)\n",
    "random_answers = data_to_predict.TX_RESPOSTAS_MT.apply(lambda x: generate_answer())\n",
    "result = (\n",
    "    data_to_predict\n",
    "    .assign(TX_RESPOSTAS_MT=random_answers)\n",
    "    [[\"NU_INSCRICAO\", \"TX_RESPOSTAS_MT\"]]\n",
    ")"
   ]
  },
  {
   "cell_type": "code",
   "execution_count": 210,
   "metadata": {},
   "outputs": [],
   "source": [
    "random_guys = data_to_predict[data_to_predict.TX_RESPOSTAS_MT == 'CCCCCCCCCCCCCCCCCCCCCCCCCCCCCCCCCCCCCCCC'].NU_INSCRICAO\n",
    "result[\"TX_RESPOSTAS_MT\"] = np.where(result[\"NU_INSCRICAO\"].isin(random_guys), 'CCCCC', result[\"TX_RESPOSTAS_MT\"])"
   ]
  },
  {
   "cell_type": "markdown",
   "metadata": {},
   "source": [
    "### Random using previous answers frequencies as probabilities"
   ]
  },
  {
   "cell_type": "code",
   "execution_count": 246,
   "metadata": {},
   "outputs": [],
   "source": [
    "options = ['A', 'B', 'C', 'D', 'E']\n",
    "def generate_prob_answer(prev_answers):\n",
    "    prev_answers = np.array(list(prev_answers) + options)\n",
    "    unique, counts = np.unique(prev_answers, return_counts=True)\n",
    "    if '*' in unique:\n",
    "        answer = np.random.choice(options, 5, replace=True)\n",
    "        return ''.join(answer)\n",
    "    probs = counts/np.sum(counts)\n",
    "    answer = np.random.choice(options, 5, p=probs, replace=True)\n",
    "    return ''.join(answer)\n",
    "random_answers = data_to_predict.TX_RESPOSTAS_MT.apply(lambda x: generate_prob_answer(x))\n",
    "result = (\n",
    "    data_to_predict\n",
    "    .assign(TX_RESPOSTAS_MT=random_answers)\n",
    "    [[\"NU_INSCRICAO\", \"TX_RESPOSTAS_MT\"]]\n",
    ")"
   ]
  },
  {
   "cell_type": "markdown",
   "metadata": {},
   "source": [
    "### Use the gabarito"
   ]
  },
  {
   "cell_type": "code",
   "execution_count": 293,
   "metadata": {},
   "outputs": [],
   "source": [
    "unique, indicies = np.unique(data_train.CO_PROVA_MT, return_index=True)\n",
    "gabaritos = np.array([])\n",
    "for i in indicies:\n",
    "    gabaritos = np.append(gabaritos, data_train.TX_GABARITO_MT.values[i])\n",
    "dict_mt_answers = dict(zip(unique, gabaritos))\n",
    "data_to_predict['TX_GABARITO_MT'] = data_to_predict.CO_PROVA_MT.replace(dict_mt_answers)"
   ]
  },
  {
   "cell_type": "markdown",
   "metadata": {},
   "source": [
    "#### Everybody right answered last 5"
   ]
  },
  {
   "cell_type": "code",
   "execution_count": 294,
   "metadata": {},
   "outputs": [],
   "source": [
    "result = (\n",
    "    data_to_predict\n",
    "    .assign(TX_RESPOSTAS_MT=lambda df: df.TX_GABARITO_MT.apply(lambda ans: ans[-5:]))\n",
    "    [[\"NU_INSCRICAO\", \"TX_RESPOSTAS_MT\"]]\n",
    ")"
   ]
  },
  {
   "cell_type": "code",
   "execution_count": 295,
   "metadata": {},
   "outputs": [],
   "source": [
    "random_guys = data_to_predict[data_to_predict.TX_RESPOSTAS_MT == 'CCCCCCCCCCCCCCCCCCCCCCCCCCCCCCCCCCCCCCCC'].NU_INSCRICAO\n",
    "result[\"TX_RESPOSTAS_MT\"] = np.where(result[\"NU_INSCRICAO\"].isin(random_guys), 'CCCCC', result[\"TX_RESPOSTAS_MT\"])"
   ]
  },
  {
   "cell_type": "markdown",
   "metadata": {},
   "source": [
    "### Generate Submission"
   ]
  },
  {
   "cell_type": "code",
   "execution_count": 296,
   "metadata": {},
   "outputs": [],
   "source": [
    "answer = result.to_dict(\"records\")\n",
    "submission = {\n",
    "    \"token\": \"5cfb5e6838b5b71058949df3e8746d3ff1c31a73\",\n",
    "    \"email\": \"igor.a.r.y@gmail.com\",\n",
    "    \"answer\": answer\n",
    "}\n",
    "with open(\"submission.json\", \"w\") as fp:\n",
    "    json.dump(submission, fp)"
   ]
  },
  {
   "cell_type": "markdown",
   "metadata": {},
   "source": [
    "### Send Post request to codenation API"
   ]
  },
  {
   "cell_type": "code",
   "execution_count": 297,
   "metadata": {},
   "outputs": [
    {
     "data": {
      "text/plain": [
       "{'score': 25.474999999999998}"
      ]
     },
     "execution_count": 297,
     "metadata": {},
     "output_type": "execute_result"
    }
   ],
   "source": [
    "url = 'https://api.codenation.com.br/v1/user/acceleration/data-science/challenge/enem-3/submit'\n",
    "r = requests.post(url, json=submission)\n",
    "r.json()"
   ]
  },
  {
   "cell_type": "code",
   "execution_count": null,
   "metadata": {},
   "outputs": [],
   "source": []
  }
 ],
 "metadata": {
  "kernelspec": {
   "display_name": "Python 3",
   "language": "python",
   "name": "python3"
  },
  "language_info": {
   "codemirror_mode": {
    "name": "ipython",
    "version": 3
   },
   "file_extension": ".py",
   "mimetype": "text/x-python",
   "name": "python",
   "nbconvert_exporter": "python",
   "pygments_lexer": "ipython3",
   "version": "3.6.5"
  }
 },
 "nbformat": 4,
 "nbformat_minor": 2
}
